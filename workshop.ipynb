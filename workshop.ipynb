{
 "cells": [
  {
   "cell_type": "markdown",
   "metadata": {},
   "source": [
    "<img src=\"./header.png\" width=55%>\n",
    "\n",
    "<img src=\"https://cdnp3.stackassets.com/42e3d5100c4c83162def7a690cf51acda1631b64/store/opt/596/298/58be047314c354bc0b2bd925b58e873c4d0b0f9a7ebc5ea2eff2ec3d6242/27dec723e2238e11de6db0dfa8ad9daaf62bac50_main_hero_image.jpg\" width=55%>\n",
    "\n",
    "\n",
    "<h1 align=\"center\">Análisis de Datos y Visualizaciones con Python</h1>\n",
    "<center>\n",
    "        <b>Presentadores:</b>\n",
    "<br>\n",
    "<br> \n",
    "<i><b>Sebastián Bórquez</b> - <a href=\"mailto:sebastian.borquez.g@gmail.com\">sebastian.borquez.g@gmail.com</a> - DI UTFSM</i><br>\n",
    "    <i><b>Patricio Campaña</b> - <a href=\"mailto:patricio.campana@sansano.usm.cl\">patricio.campana@sansano.usm.cl</a> - DI UTFSM</i><br>\n",
    "</center>\n",
    "\n",
    "\n",
    "# Temario\n",
    "\n",
    "* [0.- ¿Por qué hacer análisis exploratorio?](#intro)\n",
    "* [1.- El ambiente de desarrollo](#tools)\n",
    "* [2.- Caso 1: Migración en Chile](#caso1)\n",
    "* [3.- Caso 2: Yahoo Finances](#caso2)\n",
    "* [4.- Caso 3: Imágenes por Resonancia Magnética](#caso3)\n",
    "* [5.- Bibliografía](#sources)"
   ]
  },
  {
   "cell_type": "markdown",
   "metadata": {},
   "source": [
    "<div id=\"intro\"></div>\n",
    "    \n",
    "# ¿Por qué hacer análisis exploratorio?\n",
    "\n",
    "<img src=\"./larutadeladata.jpg\" width=30%></img>\n",
    "\n",
    "\n",
    "Análisis exploratorio y visualizacion de datos son dos pilares fundamentales del toobox de un data scientist. \n",
    "\n",
    "A través de la exploraración de los datos y su visualización podemos descubrir siertos patrones, comportamientos o anomalías en nuestros datos. De esta forma podemos llegar formular mejores hipotesis.\n",
    "\n",
    "Un análisis exploratiorio queremos descrubir que historia nos quieren contar los datos.\n"
   ]
  },
  {
   "cell_type": "markdown",
   "metadata": {},
   "source": [
    "<div id=\"tools\"></div>\n",
    "    \n",
    "# El ambiente de desarrollo"
   ]
  },
  {
   "cell_type": "markdown",
   "metadata": {},
   "source": [
    "## Jupyter notebooks\n",
    "\n",
    "<img width=\"60%\" src=\"https://cdn-images-1.medium.com/max/1600/1*LPnY8nOLg4S6_TG0DEXwsg.png\"></img>\n",
    "\n",
    "Jupyter Notebook es una herramienta extremadamente eficiente, ya que permite unir __código__ y __texto__. Así cada funcionalidad se puede explicar en detalle. También puede generar gráficos \"vivos\" generados en tiempo real dentro de la herramienta además de tener soporte para __Markdown__ y __HTML__.\n",
    "\n",
    "Esto nos permite hacer cosas mágicas como:"
   ]
  },
  {
   "cell_type": "code",
   "execution_count": null,
   "metadata": {},
   "outputs": [],
   "source": [
    "from IPython.display import display, HTML\n",
    "HTML('<iframe width=\"560\" height=\"315\" src=\"https://www.youtube.com/embed/F_VjVqe3KJ0\" frameborder=\"0\" allow=\"accelerometer; autoplay; encrypted-media; gyroscope; picture-in-picture\" allowfullscreen></iframe>')"
   ]
  },
  {
   "cell_type": "code",
   "execution_count": null,
   "metadata": {},
   "outputs": [],
   "source": [
    "HTML('''\n",
    "<div style=\"margin: 0 auto; width:100%; height:400px;\">\n",
    "    <object type=\"text/html\" data=\"https://siga.usm.cl/pag/\"\n",
    "            style=\"width:100%; height:100%; margin:1%;\">\n",
    "    </object>\n",
    "</div>\n",
    "''')"
   ]
  },
  {
   "cell_type": "markdown",
   "metadata": {},
   "source": [
    "## Pandas\n",
    "\n",
    "<img width=\"70%\" src=\"https://pandas.pydata.org/_static/pandas_logo.png\"></img>\n",
    "\n",
    "[Pandas](http://pandas.pydata.org/) (_panel data_) es un módulo de Python que nos provee de estructuras de datos, alto desempeño y herramientas para el _análisis de datos_.\n",
    "\n",
    "Por lo general, como _data scientist_ trabajaremos con datos en forma de tablas, estos por lo general se encuentran almacenados en formatos _csv, xlsx, tsv_, entre otros. Pandas nos ofrece una manera conveniente para _cargar, procesar, analizar y guardar_ dichas tablas.\n",
    "\n",
    "Las dos estructuras principales que utiliza pandas son las __Series__ y los __Dataframes__."
   ]
  },
  {
   "cell_type": "code",
   "execution_count": null,
   "metadata": {},
   "outputs": [],
   "source": [
    "import pandas as pd\n",
    "import numpy as np"
   ]
  },
  {
   "cell_type": "markdown",
   "metadata": {},
   "source": [
    "Podemos crear series de diferentes tipos"
   ]
  },
  {
   "cell_type": "code",
   "execution_count": null,
   "metadata": {},
   "outputs": [],
   "source": [
    "pd.Series?"
   ]
  },
  {
   "cell_type": "code",
   "execution_count": null,
   "metadata": {},
   "outputs": [],
   "source": [
    "A = pd.Series([1,3,5,2,6,8])\n",
    "B = pd.Series(np.random.rand(6))\n",
    "C = pd.Series(pd.Categorical([\"x\", \"x\", \"y\",\"x\",\"y\", \"y\"]))\n",
    "D = pd.Series(pd.date_range('2018-01-01', '2018-01-06'))\n",
    "\n",
    "display(A)\n",
    "display(B)\n",
    "display(C)\n",
    "display(D)"
   ]
  },
  {
   "cell_type": "markdown",
   "metadata": {},
   "source": [
    "Igualmente, podemos crear Dataframes de diferentes formas"
   ]
  },
  {
   "cell_type": "code",
   "execution_count": null,
   "metadata": {},
   "outputs": [],
   "source": [
    "pd.DataFrame?"
   ]
  },
  {
   "cell_type": "code",
   "execution_count": null,
   "metadata": {},
   "outputs": [],
   "source": [
    "df = pd.DataFrame(np.random.randn(6,4), columns=list('ABCD'))\n",
    "df"
   ]
  },
  {
   "cell_type": "code",
   "execution_count": null,
   "metadata": {},
   "outputs": [],
   "source": [
    "df = pd.DataFrame({\n",
    "    \"A\":A,\n",
    "    \"B\":B,\n",
    "    \"C\":C,\n",
    "    \"D\":D\n",
    "})\n",
    "df"
   ]
  },
  {
   "cell_type": "markdown",
   "metadata": {},
   "source": [
    "Pandas nos permite acceder a los valores de manera flexible, ajustandose a lo que necesitamos"
   ]
  },
  {
   "cell_type": "markdown",
   "metadata": {},
   "source": [
    "Una columna"
   ]
  },
  {
   "cell_type": "code",
   "execution_count": null,
   "metadata": {},
   "outputs": [],
   "source": [
    "print(type(df[\"A\"]))\n",
    "df[\"A\"]"
   ]
  },
  {
   "cell_type": "markdown",
   "metadata": {},
   "source": [
    "Una fila"
   ]
  },
  {
   "cell_type": "code",
   "execution_count": null,
   "metadata": {},
   "outputs": [],
   "source": [
    "print(type(df.loc[3]))\n",
    "df.loc[3]"
   ]
  },
  {
   "cell_type": "code",
   "execution_count": null,
   "metadata": {},
   "outputs": [],
   "source": [
    "df.iloc[0]"
   ]
  },
  {
   "cell_type": "markdown",
   "metadata": {},
   "source": [
    "Varias columnas"
   ]
  },
  {
   "cell_type": "code",
   "execution_count": null,
   "metadata": {},
   "outputs": [],
   "source": [
    "print(type(df[[\"A\", \"B\"]]))\n",
    "df[[\"A\", \"B\"]]"
   ]
  },
  {
   "cell_type": "markdown",
   "metadata": {},
   "source": [
    "Acceder a un valor especifico"
   ]
  },
  {
   "cell_type": "code",
   "execution_count": null,
   "metadata": {},
   "outputs": [],
   "source": [
    "print(type(df.loc[2,\"A\"]))\n",
    "df.at[2,\"A\"]"
   ]
  },
  {
   "cell_type": "markdown",
   "metadata": {},
   "source": [
    "Varias filas y columnas"
   ]
  },
  {
   "cell_type": "code",
   "execution_count": null,
   "metadata": {},
   "outputs": [],
   "source": [
    "print(type(df.loc[2:5, [\"A\", \"C\"]]))\n",
    "df.loc[2:5, [\"A\", \"C\"]]"
   ]
  },
  {
   "cell_type": "markdown",
   "metadata": {},
   "source": [
    "Podemos cambiar el indice con el que accedemos a las filas"
   ]
  },
  {
   "cell_type": "code",
   "execution_count": null,
   "metadata": {
    "scrolled": true
   },
   "outputs": [],
   "source": [
    "df = df.set_index(\"D\")\n",
    "df"
   ]
  },
  {
   "cell_type": "code",
   "execution_count": null,
   "metadata": {},
   "outputs": [],
   "source": [
    "df.loc[\"2018-01-03\"]"
   ]
  },
  {
   "cell_type": "markdown",
   "metadata": {},
   "source": [
    "Podemos tambien modificar valores"
   ]
  },
  {
   "cell_type": "code",
   "execution_count": null,
   "metadata": {},
   "outputs": [],
   "source": [
    "df.at[\"2018-01-03\", \"C\"] = \"x\"\n",
    "df"
   ]
  },
  {
   "cell_type": "markdown",
   "metadata": {},
   "source": [
    "O acceder a valores dada una condición"
   ]
  },
  {
   "cell_type": "code",
   "execution_count": null,
   "metadata": {},
   "outputs": [],
   "source": [
    "df[df[\"C\"] == \"x\"]"
   ]
  },
  {
   "cell_type": "markdown",
   "metadata": {},
   "source": [
    "Esto continua, pueden acceder a [10 Minutes to Pandas](https://pandas.pydata.org/pandas-docs/stable/10min.html) para mayor explicación de las diferentes operaciones disponibles en Pandas"
   ]
  },
  {
   "cell_type": "markdown",
   "metadata": {},
   "source": [
    "## Matplotlib\n",
    "\n",
    "\n",
    "<img width=\"50%\" src=\"https://matplotlib.org/_static/logo2.png\"></img>\n",
    "\n",
    "Buscaremos ver el comportamiento de la siguiente estimación del interés de los asistentes a esta charla a lo largo del tiempo:"
   ]
  },
  {
   "cell_type": "code",
   "execution_count": null,
   "metadata": {},
   "outputs": [],
   "source": [
    "t = np.arange(0, 60, 0.1)                   # dominio (eje x)\n",
    "i = np.exp(t - 60) + np.power(-t/60 + 1, 3) # recorrido (eje y)"
   ]
  },
  {
   "cell_type": "markdown",
   "metadata": {},
   "source": [
    "Intentemos ver su comportamiento ¿Cuáles son los primeros 10 valores de cada arreglo?:"
   ]
  },
  {
   "cell_type": "code",
   "execution_count": null,
   "metadata": {},
   "outputs": [],
   "source": [
    "t[0:10]"
   ]
  },
  {
   "cell_type": "code",
   "execution_count": null,
   "metadata": {},
   "outputs": [],
   "source": [
    "i[0:10]"
   ]
  },
  {
   "cell_type": "markdown",
   "metadata": {},
   "source": [
    "Estos números no dicen mucho... ¡**[matplotlib](https://matplotlib.org/api/pyplot_api.html)** podría ayudarnos a verlos de mejor manera!"
   ]
  },
  {
   "cell_type": "code",
   "execution_count": null,
   "metadata": {},
   "outputs": [],
   "source": [
    "import matplotlib.pyplot as plt"
   ]
  },
  {
   "cell_type": "markdown",
   "metadata": {},
   "source": [
    "Podemos graficar con el método `plot` el recorrido `i` sobre el dominio `t`:"
   ]
  },
  {
   "cell_type": "code",
   "execution_count": null,
   "metadata": {},
   "outputs": [],
   "source": [
    "plt.plot(t, i);"
   ]
  },
  {
   "cell_type": "markdown",
   "metadata": {},
   "source": [
    "Pero aun falta algo... un título y el significado de los ejes:"
   ]
  },
  {
   "cell_type": "code",
   "execution_count": null,
   "metadata": {},
   "outputs": [],
   "source": [
    "plt.title(\"Interés vs. Tiempo\")\n",
    "\n",
    "plt.xlabel(\"Tiempo [min]\")\n",
    "plt.ylabel(\"Interés [pts]\")\n",
    "\n",
    "plt.plot(t, i);"
   ]
  },
  {
   "cell_type": "markdown",
   "metadata": {},
   "source": [
    "¡Mucho mejor! ¿qué información podemos inferir de este gráfico?\n",
    "\n",
    "1. El café del break anterior deja de hacer efecto continuamente durante la charla.\n",
    "2. El siguiente coffe break comienza al rededor de los 55 minutos tras comenzar la charla."
   ]
  },
  {
   "cell_type": "markdown",
   "metadata": {},
   "source": [
    "Pero esto es sólo el comienzo..."
   ]
  },
  {
   "cell_type": "markdown",
   "metadata": {},
   "source": [
    "<div id=\"caso1\"></div>\n",
    "    \n",
    "# Caso 1: Migración en Chile\n",
    "<img src=\"https://www.extranjeria.gob.cl/media/2016/03/logo-migraciones-sin-fondo-1.png\" width=40% height=35%>\n",
    "\n",
    "El segundo caso consiste de datos de inmigración en Chile durante el año 2018. Estos se encuentran disponibles en la página del __[Departamento de Extranjería y Migración](https://www.extranjeria.gob.cl/estadisticas-migratorias/)__ del Ministerio del Interior y Seguridad Pública. \n",
    "\n",
    "_Puedes descargar estos datasets desde este [link](https://www.extranjeria.gob.cl/estadisticas-migratorias/)._"
   ]
  },
  {
   "cell_type": "code",
   "execution_count": null,
   "metadata": {},
   "outputs": [],
   "source": [
    "visas_file = \"./data/CH_2018_P.xlsx\""
   ]
  },
  {
   "cell_type": "markdown",
   "metadata": {},
   "source": [
    "## Cargar datos"
   ]
  },
  {
   "cell_type": "code",
   "execution_count": null,
   "metadata": {},
   "outputs": [],
   "source": [
    "pd.read_excel?"
   ]
  },
  {
   "cell_type": "markdown",
   "metadata": {},
   "source": [
    "__pd.read_excel()__ nos entrega un __DataFrame__, el cual es la representación que utiliza pandas para una tabla, esta posee tanto los nombres de las columnas, indices y los valores de los datos contenidos en la tabla."
   ]
  },
  {
   "cell_type": "code",
   "execution_count": null,
   "metadata": {},
   "outputs": [],
   "source": [
    "visas = pd.read_excel(visas_file)\n",
    "\n",
    "print(type(visas))"
   ]
  },
  {
   "cell_type": "markdown",
   "metadata": {},
   "source": [
    "## Conociendo el Dataframe\n",
    "\n",
    "Podemos hacernos una idea del contenido del _Dataframe_ utilizando los métodos __head(n)__ y __tail(n)__ . Tal como sus nombres lo indican, muestran los **n** primeros o __n__ últimas filas del _Dataframe_ respectivamente."
   ]
  },
  {
   "cell_type": "code",
   "execution_count": null,
   "metadata": {},
   "outputs": [],
   "source": [
    "visas.head(5)"
   ]
  },
  {
   "cell_type": "code",
   "execution_count": null,
   "metadata": {},
   "outputs": [],
   "source": [
    "visas.tail(5)"
   ]
  },
  {
   "cell_type": "markdown",
   "metadata": {},
   "source": [
    "Vamos a echar un vistazo a la dimensionalidad de los datos, nombres de las columnas y sus tipos."
   ]
  },
  {
   "cell_type": "code",
   "execution_count": null,
   "metadata": {},
   "outputs": [],
   "source": [
    "print(f\"Cantidad de filas: {len(visas)}\")\n",
    "print(f\"Dimensiones: {visas.shape}\")\n",
    "print(f\"Cantidad de valores: {visas.size}\")"
   ]
  },
  {
   "cell_type": "code",
   "execution_count": null,
   "metadata": {},
   "outputs": [],
   "source": [
    "print(\"Columnas: \", *visas.columns)"
   ]
  },
  {
   "cell_type": "code",
   "execution_count": null,
   "metadata": {},
   "outputs": [],
   "source": [
    "display(visas.info())\n",
    "display(visas.dtypes)"
   ]
  },
  {
   "cell_type": "markdown",
   "metadata": {},
   "source": [
    "También podemos revisar cada columna, ahora veremos las diferentes valores que contiene cada columna"
   ]
  },
  {
   "cell_type": "code",
   "execution_count": null,
   "metadata": {},
   "outputs": [],
   "source": [
    "for column in visas:\n",
    "    print(f\"{column} tiene {visas[column].nunique()} valores diferentes\")"
   ]
  },
  {
   "cell_type": "code",
   "execution_count": null,
   "metadata": {},
   "outputs": [],
   "source": [
    "print(f\"Valores de ESTUDIOS: {visas.ESTUDIOS.unique()}\")"
   ]
  },
  {
   "cell_type": "code",
   "execution_count": null,
   "metadata": {},
   "outputs": [],
   "source": [
    "print(f\"Cantidad de individuos por cada valor de ESTUDIOS:\")\n",
    "visas.ESTUDIOS.value_counts()"
   ]
  },
  {
   "cell_type": "markdown",
   "metadata": {},
   "source": [
    "Quizás lo que nos interesa es saber como se distribuyen nuestros individuos pero en dos variables. Para esto existen las _tablas de contigencia_ disponibles con el comando __crosstab__."
   ]
  },
  {
   "cell_type": "code",
   "execution_count": null,
   "metadata": {},
   "outputs": [],
   "source": [
    "pd.crosstab(visas[\"ACTIVIDAD\"], visas[\"SEXO\"])"
   ]
  },
  {
   "cell_type": "markdown",
   "metadata": {},
   "source": [
    "## Consultas\n",
    "\n",
    "Pandas también nos da la opción de realizar consultas, por ejemplo queremos saber solo los datos de los inmigrantes que vienen de _PERÚ_."
   ]
  },
  {
   "cell_type": "code",
   "execution_count": null,
   "metadata": {},
   "outputs": [],
   "source": [
    "visas[visas[\"PAIS\"] == \"PERÚ\"].head(5)"
   ]
  },
  {
   "cell_type": "markdown",
   "metadata": {},
   "source": [
    "O podemos anidar múltiples consultas utilizando __AND, NOT__ y __OR__, para esto usamos __&,|__ y __~__ respectivamente."
   ]
  },
  {
   "cell_type": "code",
   "execution_count": null,
   "metadata": {},
   "outputs": [],
   "source": [
    "visas[(visas[\"PAIS\"] == \"PERÚ\") & ((visas[\"COMUNA\"] == \"VIÑA DEL MAR\") | (visas[\"COMUNA\"] == \"VALPARAISO\"))].head(5)"
   ]
  },
  {
   "cell_type": "markdown",
   "metadata": {},
   "source": [
    "Tambien podemos utilizar __isin__ para corroborar con una lista de valores."
   ]
  },
  {
   "cell_type": "code",
   "execution_count": null,
   "metadata": {},
   "outputs": [],
   "source": [
    "visas[(visas[\"ACTIVIDAD\"].isin(['ESTUDIANTE'])) & ~(visas[\"ESTUDIOS\"].isin(['PREBASICO','BASICO', 'MEDIO', 'NO INFORMA', 'NINGUNO']))].head(10)"
   ]
  },
  {
   "cell_type": "markdown",
   "metadata": {},
   "source": [
    "## Modificando el Dataframe\n",
    "\n",
    "No tan solo podemos acceder a los valores, podemos crear nuevas columnas a partir de las actuales, modificar columnas o incluso eliminar columnas que no necesitamos.\n",
    "\n",
    "\n",
    "Por ejemplo, podemos crear una nueva columna que obtenga la edad de las personas."
   ]
  },
  {
   "cell_type": "code",
   "execution_count": null,
   "metadata": {},
   "outputs": [],
   "source": [
    "from datetime import datetime\n",
    "\n",
    "visas[\"EDAD\"] = (datetime.now() - visas[\"FECH-NAC\"]).transform(lambda x: x.days // 365)\n",
    "visas.head(5)"
   ]
  },
  {
   "cell_type": "markdown",
   "metadata": {},
   "source": [
    "Podemos modificar columnas, por ejemplo en la lista de _ESTUDIOS_ tiene valores que son \"repetidos\" pero tienen diferente nombre. Me refiero a __no indica__, __NO INFORMA__. Queremos eliminar estos dos valores y dejar solo uno."
   ]
  },
  {
   "cell_type": "code",
   "execution_count": null,
   "metadata": {},
   "outputs": [],
   "source": [
    "visas[\"ESTUDIOS\"].replace(\"no indica\", \"NO INFORMA\", inplace=True)\n",
    "visas[\"ESTUDIOS\"].value_counts()"
   ]
  },
  {
   "cell_type": "markdown",
   "metadata": {},
   "source": [
    "También se puede dar el caso que algunas columnas sean innecesarias, por ejemplo el __AÑO__, ya que en este caso siempre es 2018."
   ]
  },
  {
   "cell_type": "code",
   "execution_count": null,
   "metadata": {},
   "outputs": [],
   "source": [
    "visas.drop(columns=[\"AÑO\", \"FECH-NAC\", \"TIT_DEP\"], inplace=True)\n",
    "visas.head(5)"
   ]
  },
  {
   "cell_type": "markdown",
   "metadata": {},
   "source": [
    "## Agrupando\n",
    "\n",
    "Finalmente podemos agrupar los valores por datos, por ejemplo queremos saber como se distribuyen los inmigrantes por región."
   ]
  },
  {
   "cell_type": "code",
   "execution_count": null,
   "metadata": {},
   "outputs": [],
   "source": [
    "regiones = visas.groupby(\"REGION\")\n",
    "type(regiones)"
   ]
  },
  {
   "cell_type": "code",
   "execution_count": null,
   "metadata": {},
   "outputs": [],
   "source": [
    "regiones.size()"
   ]
  },
  {
   "cell_type": "code",
   "execution_count": null,
   "metadata": {},
   "outputs": [],
   "source": [
    "print(type(regiones.get_group(\"REGION DE ATACAMA\")))\n",
    "regiones.get_group(\"REGION DE ATACAMA\").head(5)"
   ]
  },
  {
   "cell_type": "code",
   "execution_count": null,
   "metadata": {},
   "outputs": [],
   "source": [
    "for region, df in regiones:\n",
    "    display(HTML(f\"<h3 align='center'>{region}</h3>\"))\n",
    "    display(pd.crosstab(df[\"PAIS\"],df[\"COMUNA\"]))"
   ]
  },
  {
   "cell_type": "markdown",
   "metadata": {},
   "source": [
    "<h3>Visualizaciones</h3>\n",
    "\n",
    "Si quieres mostrar resultados, lo mejor es mostrarlo a través de gráficos por tres razones:\n",
    "* Resumir la información\n",
    "* Se pueden encontrar patrones\n",
    "* Es más fácil de entender cuando compartas tus resultados"
   ]
  },
  {
   "cell_type": "markdown",
   "metadata": {},
   "source": [
    "#### Inmigrantes por país"
   ]
  },
  {
   "cell_type": "markdown",
   "metadata": {},
   "source": [
    "Crearemos un gráfico de pastel (pie, torta, circular, ...) para visualizar de dónde viene la mayor parte de los inmigrantes.\n",
    "\n",
    "Para esto usaremos una nueva herramienta de visualización... **plotly**:"
   ]
  },
  {
   "cell_type": "code",
   "execution_count": null,
   "metadata": {},
   "outputs": [],
   "source": [
    "from plotly.offline import init_notebook_mode, iplot\n",
    "import plotly.graph_objs as go\n",
    "import plotly.plotly as py\n",
    "\n",
    "init_notebook_mode()"
   ]
  },
  {
   "cell_type": "markdown",
   "metadata": {},
   "source": [
    "**plotly** es algo más difícil de usar que **matplotlib**, sin embargo es mucho más poderoso en cuanto a interactividad. Hay que tener en cuenta lo siguiente:\n",
    "\n",
    "1. Para funcionar en Jupyter Notebook, ha de llamarse primero a la función `init_notebook_mode()`.\n",
    "2. Los gráficos son llamados **graph objects**.\n",
    "2. La función `iplot` permite visualizar gráficos y reciben un diccionario con la lista de **graph objects** a mostrar."
   ]
  },
  {
   "cell_type": "markdown",
   "metadata": {},
   "source": [
    "Primero, tendremos una serie con los nombres de los países y otra con la cantidad de inmigrantes pertenecientes a cada país:"
   ]
  },
  {
   "cell_type": "code",
   "execution_count": null,
   "metadata": {},
   "outputs": [],
   "source": [
    "paises = df[\"PAIS\"].value_counts()\n",
    "paises.values"
   ]
  },
  {
   "cell_type": "code",
   "execution_count": null,
   "metadata": {},
   "outputs": [],
   "source": [
    "THRESHOLD = .01 # porcentaje minimo para aparecer en el pie\n",
    "mask = (paises.values / paises.values.sum()) > THRESHOLD\n",
    "\n",
    "labels = list(paises.index[mask]) + [\"Otros\"]\n",
    "values = list(paises.values[mask]) + [paises.values[~mask].sum()]"
   ]
  },
  {
   "cell_type": "markdown",
   "metadata": {},
   "source": [
    "Luego entregaremos estos valores a un **graph object** de un gráfico de pastel:"
   ]
  },
  {
   "cell_type": "code",
   "execution_count": null,
   "metadata": {},
   "outputs": [],
   "source": [
    "#pieses = go.Pie(labels=paises.index, values=paises.values)\n",
    "pieses = go.Pie(labels=labels, values=values)"
   ]
  },
  {
   "cell_type": "markdown",
   "metadata": {},
   "source": [
    "Finalmente, la visualización:"
   ]
  },
  {
   "cell_type": "code",
   "execution_count": null,
   "metadata": {
    "scrolled": false
   },
   "outputs": [],
   "source": [
    "iplot(dict(data=[pieses]))"
   ]
  },
  {
   "cell_type": "markdown",
   "metadata": {},
   "source": [
    "### Inmigrantes por región"
   ]
  },
  {
   "cell_type": "markdown",
   "metadata": {},
   "source": [
    "A continuación veremos cómo crear un gráfico de barras que nos indique a qué comunas de la Región de Atacama se dirigen las personas de cada país.\n",
    "\n",
    "En primer lugar, definiremos la región y agruparemos las filas correspondientes:"
   ]
  },
  {
   "cell_type": "code",
   "execution_count": null,
   "metadata": {},
   "outputs": [],
   "source": [
    "REGION_ACTUAL = \"REGION DE ATACAMA\"\n",
    "region = regiones.get_group(REGION_ACTUAL)"
   ]
  },
  {
   "cell_type": "markdown",
   "metadata": {},
   "source": [
    "Luego de la región agruparemos por país:"
   ]
  },
  {
   "cell_type": "code",
   "execution_count": null,
   "metadata": {},
   "outputs": [],
   "source": [
    "paises = region.groupby(\"PAIS\")"
   ]
  },
  {
   "cell_type": "markdown",
   "metadata": {},
   "source": [
    "Ahora la parte \"complicada\", por cada país vamos a necesitar un color, para lo cual tendremos que tener un **graph object** por cada uno y almacenarlo en una lista `data`:"
   ]
  },
  {
   "cell_type": "code",
   "execution_count": null,
   "metadata": {},
   "outputs": [],
   "source": [
    "data = list()\n",
    "for pais, df in paises:\n",
    "    count = df[\"COMUNA\"].value_counts()\n",
    "    trace = go.Bar(\n",
    "        x = count.index,\n",
    "        y = count.values,\n",
    "        name = pais\n",
    "    )\n",
    "    data.append(trace)"
   ]
  },
  {
   "cell_type": "markdown",
   "metadata": {},
   "source": [
    "Además de entregar los datos a la función `iplot`, es posible entregarle un _layout_ que defina el diseño del gráfico, por ejemplo:"
   ]
  },
  {
   "cell_type": "code",
   "execution_count": null,
   "metadata": {},
   "outputs": [],
   "source": [
    "layout = go.Layout(\n",
    "    barmode='stack',\n",
    "    title = REGION_ACTUAL\n",
    ")"
   ]
  },
  {
   "cell_type": "markdown",
   "metadata": {},
   "source": [
    "Luego, al graficar:"
   ]
  },
  {
   "cell_type": "code",
   "execution_count": null,
   "metadata": {},
   "outputs": [],
   "source": [
    "iplot(dict(data=data, layout=layout))"
   ]
  },
  {
   "cell_type": "markdown",
   "metadata": {},
   "source": [
    "Ahora... sería bastante útil poder ver este gráfico para diferentes regiones ¿no?, ahí es cuando entran los **widgets**"
   ]
  },
  {
   "cell_type": "markdown",
   "metadata": {},
   "source": [
    "**Widget**: Objeto de Python con el que se puede interactuar y que reacciona a eventos."
   ]
  },
  {
   "cell_type": "markdown",
   "metadata": {},
   "source": [
    "Los **widgets** se encuentran en un módulo de Python llamado **ipywidgets**, del cual importaremos lo siguiente:"
   ]
  },
  {
   "cell_type": "code",
   "execution_count": null,
   "metadata": {},
   "outputs": [],
   "source": [
    "import ipywidgets as widgets\n",
    "from ipywidgets import interact"
   ]
  },
  {
   "cell_type": "markdown",
   "metadata": {},
   "source": [
    "Existen una gran variedad de **widgets** dentro de este módulo, para esta tarea crearemos un dropdown que tenga todas las regiones del país:"
   ]
  },
  {
   "cell_type": "code",
   "execution_count": null,
   "metadata": {},
   "outputs": [],
   "source": [
    "dd = widgets.Dropdown(options=visas[\"REGION\"].unique(), description=\"Región:\")\n",
    "display(dd)"
   ]
  },
  {
   "cell_type": "markdown",
   "metadata": {},
   "source": [
    "¡Funciona! pero... no hace nada ¬¬"
   ]
  },
  {
   "cell_type": "markdown",
   "metadata": {},
   "source": [
    "Usaremos..."
   ]
  },
  {
   "cell_type": "markdown",
   "metadata": {},
   "source": [
    "<div style=\"text-align:center;font-size:28px\">\n",
    "    <b>¡interact!</b>\n",
    "</div>"
   ]
  },
  {
   "cell_type": "markdown",
   "metadata": {},
   "source": [
    "`interact` es una función decorador muy poderoso que utiliza los _widgets_ que se le entreguen para ir cambiando los argumentos de una función dada."
   ]
  },
  {
   "cell_type": "markdown",
   "metadata": {},
   "source": [
    "**Warning**: Esto significa que llamará a la función dada cada vez que se cambie el valor de un _widget_."
   ]
  },
  {
   "cell_type": "markdown",
   "metadata": {},
   "source": [
    "En este caso, usaremos `interact` sobre una nueva función que tenga toodo el código que usamos antes. `interact` recibe como argumento los widgets a utilizar:"
   ]
  },
  {
   "cell_type": "code",
   "execution_count": null,
   "metadata": {},
   "outputs": [],
   "source": [
    "@interact(region_name=dd)\n",
    "def plot_region(region_name):\n",
    "    region = regiones.get_group(region_name)\n",
    "    paises = region.groupby(\"PAIS\")\n",
    "    \n",
    "    data = list()\n",
    "    for pais, df in paises:\n",
    "        count = df[\"COMUNA\"].value_counts()\n",
    "        trace = go.Bar(\n",
    "            x = count.index,\n",
    "            y = count.values,\n",
    "            name = pais\n",
    "        )\n",
    "        data.append(trace)\n",
    "        \n",
    "    layout = go.Layout(\n",
    "        barmode='stack',\n",
    "        title = region_name\n",
    "    )\n",
    "    iplot(dict(data=data, layout=layout))"
   ]
  },
  {
   "cell_type": "markdown",
   "metadata": {},
   "source": [
    "#### Inmigrantes por edad y sexo"
   ]
  },
  {
   "cell_type": "markdown",
   "metadata": {},
   "source": [
    "Para la siguiente visualización usaremos un gráfico de pirámide, que no es más que dos **graph objects** dispuestos horizontalmente.\n",
    "\n",
    "Primero agrupamos por sexo cada fila:"
   ]
  },
  {
   "cell_type": "code",
   "execution_count": null,
   "metadata": {},
   "outputs": [],
   "source": [
    "sex = visas.groupby(\"SEXO\")\n",
    "mdf = sex.get_group(\"femenino\")\n",
    "hdf = sex.get_group(\"masculino\")"
   ]
  },
  {
   "cell_type": "markdown",
   "metadata": {},
   "source": [
    "Guardaremos la cantidad de individuos que pertenecen a cada rango de edad, los rangos irán de 10 en 10:"
   ]
  },
  {
   "cell_type": "code",
   "execution_count": null,
   "metadata": {},
   "outputs": [],
   "source": [
    "bins = np.arange(0,100,5)\n",
    "hombres = pd.cut(visas[\"EDAD\"][visas[\"SEXO\"] == \"masculino\"], bins)\n",
    "mujeres = pd.cut(visas[\"EDAD\"][visas[\"SEXO\"] == \"femenino\"], bins)\n",
    "\n",
    "h_bins = hombres.value_counts(sort=False) * -1\n",
    "m_bins = mujeres.value_counts(sort=False)"
   ]
  },
  {
   "cell_type": "markdown",
   "metadata": {},
   "source": [
    "Luego se crea un **graph object** por sexo:"
   ]
  },
  {
   "cell_type": "code",
   "execution_count": null,
   "metadata": {},
   "outputs": [],
   "source": [
    "mtrace = go.Bar(\n",
    "    y = bins,\n",
    "    x = m_bins.values,\n",
    "    orientation = \"h\",\n",
    "    name = \"Femenino\"\n",
    ")\n",
    "\n",
    "htrace = go.Bar(\n",
    "    y = bins,\n",
    "    x = h_bins.values,\n",
    "    orientation = \"h\",\n",
    "    name = \"Masculino\"\n",
    ")"
   ]
  },
  {
   "cell_type": "markdown",
   "metadata": {},
   "source": [
    "Y usaremos el siguiente _layout_:"
   ]
  },
  {
   "cell_type": "code",
   "execution_count": null,
   "metadata": {},
   "outputs": [],
   "source": [
    "layout = go.Layout(\n",
    "    yaxis = go.layout.YAxis(title='Edad'),\n",
    "    xaxis = go.layout.XAxis(title='Cantidad'),\n",
    "    barmode='overlay',\n",
    "    bargap=0.1\n",
    ")"
   ]
  },
  {
   "cell_type": "markdown",
   "metadata": {},
   "source": [
    "Al graficar:"
   ]
  },
  {
   "cell_type": "code",
   "execution_count": null,
   "metadata": {},
   "outputs": [],
   "source": [
    "iplot(dict(data=[htrace, mtrace], layout=layout))"
   ]
  },
  {
   "cell_type": "markdown",
   "metadata": {},
   "source": [
    "<div id=\"caso2\"></div>\n",
    "    \n",
    "# Caso 2: Yahoo Finances\n",
    "\n",
    "<img src=\"https://i0.wp.com/cd1.eju.tv/wp-content/uploads/2016/07/578a40b2c03d5.jpg?resize=830%2C415\" width=45%>\n",
    "\n",
    "En el primer caso utilizaremos datos de [__Yahoo Finances__](https://finance.yahoo.com/). En concreto, analizaremos las acciones de [_Nintendo_](https://www.nintendo.co.jp/) entre los años 2013 a 2018.\n",
    "\n",
    "_Puedes descargar este dataset desde este [link](https://finance.yahoo.com/quote/7974.T/history?period1=1385607600&period2=1543374000&interval=1d&filter=history&frequency=1d)._\n"
   ]
  },
  {
   "cell_type": "code",
   "execution_count": null,
   "metadata": {},
   "outputs": [],
   "source": [
    "ntdo_file = \"./data/NINTENDO.csv\""
   ]
  },
  {
   "cell_type": "code",
   "execution_count": null,
   "metadata": {},
   "outputs": [],
   "source": [
    "ntdo = pd.read_csv(ntdo_file, sep=',')\n",
    "\n",
    "print(f\"Cantidad de filas: {len(ntdo)}\")\n",
    "print(f\"Dimensiones: {ntdo.shape}\")\n",
    "print(f\"Cantidad de valores: {ntdo.size}\")\n",
    "print()\n",
    "\n",
    "ntdo.info()\n",
    "ntdo.head(5)"
   ]
  },
  {
   "cell_type": "code",
   "execution_count": null,
   "metadata": {},
   "outputs": [],
   "source": [
    "ntdo[\"Date\"].dtype"
   ]
  },
  {
   "cell_type": "code",
   "execution_count": null,
   "metadata": {},
   "outputs": [],
   "source": [
    "ntdo[\"Date\"] = pd.to_datetime(ntdo[\"Date\"], format='%Y-%m-%d')\n",
    "ntdo[\"Date\"].dtype"
   ]
  },
  {
   "cell_type": "code",
   "execution_count": null,
   "metadata": {},
   "outputs": [],
   "source": [
    "ntdo.set_index(\"Date\", inplace=True)\n",
    "ntdo.head(5)"
   ]
  },
  {
   "cell_type": "markdown",
   "metadata": {},
   "source": [
    "O al momento de cargar, podemos usar:"
   ]
  },
  {
   "cell_type": "code",
   "execution_count": null,
   "metadata": {},
   "outputs": [],
   "source": [
    "ntdo = pd.read_csv(ntdo_file, index_col=\"Date\", parse_dates=['Date'], date_parser=lambda x: pd.datetime.strptime(x, '%Y-%m-%d'))\n",
    "\n",
    "ntdo.info()\n",
    "display(ntdo.head(5))"
   ]
  },
  {
   "cell_type": "code",
   "execution_count": null,
   "metadata": {},
   "outputs": [],
   "source": [
    "ntdo.describe()"
   ]
  },
  {
   "cell_type": "code",
   "execution_count": null,
   "metadata": {},
   "outputs": [],
   "source": [
    "ntdo[[\"Open\", \"High\", \"Close\"]].plot.line(figsize=(15,5))\n",
    "plt.title(\"Nintendo\");"
   ]
  },
  {
   "cell_type": "code",
   "execution_count": null,
   "metadata": {},
   "outputs": [],
   "source": [
    "daterange = ntdo[\"2016-01-01\":\"2017-01-01\"]\n",
    "daterange.head(5)"
   ]
  },
  {
   "cell_type": "code",
   "execution_count": null,
   "metadata": {},
   "outputs": [],
   "source": [
    "daterange[[\"Open\", \"High\", \"Close\"]].plot.line(figsize=(15,5))\n",
    "plt.title(\"Nintendo\");"
   ]
  },
  {
   "cell_type": "code",
   "execution_count": null,
   "metadata": {},
   "outputs": [],
   "source": [
    "close = daterange[\"Close\"]\n",
    "\n",
    "min_value, max_value = close.min(), close.max()\n",
    "mean = close.mean()\n",
    "std = close.std()\n",
    "counts = close.count()\n",
    "print(f\"counts: {counts}\\nmin: {min_value}\\nmax: {max_value}\\nmean: {mean}\\nstd: {std}\")"
   ]
  },
  {
   "cell_type": "code",
   "execution_count": null,
   "metadata": {},
   "outputs": [],
   "source": [
    "close.plot.line(figsize=(15,5))\n",
    "\n",
    "plt.plot(close.index, [mean for i in range(counts)],'--b', label=f\"Mean: {mean:5.6}\")\n",
    "plt.fill_between(close.index, mean-2*std, mean+2*std, color='b', alpha=0.1)\n",
    "\n",
    "plt.legend()\n",
    "plt.title(\"Nintendo\");"
   ]
  },
  {
   "cell_type": "code",
   "execution_count": null,
   "metadata": {},
   "outputs": [],
   "source": [
    "window = 20\n",
    "\n",
    "daterange = daterange.assign(\n",
    "                             mean = close.rolling(window).mean(), \n",
    "                             std = close.rolling(window).std()\n",
    "                        )\n",
    "\n",
    "\n",
    "mean = daterange[[\"mean\"]]\n",
    "range_std = (daterange[\"mean\"] - 2 * daterange[\"std\"], daterange[\"mean\"] + 2 * daterange[\"std\"])\n",
    "\n",
    "daterange[[\"Close\"]].plot.line(figsize=(15,10))\n",
    "plt.plot(daterange[[\"mean\"]],'--b', label=\"Mean\")\n",
    "plt.fill_between(daterange.index, range_std[0], range_std[1], color='b', alpha=0.1)\n",
    "\n",
    "plt.legend()\n",
    "plt.title(\"Nintendo\");"
   ]
  },
  {
   "cell_type": "markdown",
   "metadata": {},
   "source": [
    "## Volatilidad"
   ]
  },
  {
   "cell_type": "code",
   "execution_count": null,
   "metadata": {},
   "outputs": [],
   "source": [
    "daterange = daterange.assign(volatility = daterange[\"std\"] * np.sqrt(window))\n",
    "\n",
    "daterange[[\"volatility\"]].plot.line( figsize=(15,5), legend=None, style=\"--b\")\n",
    "plt.grid()\n",
    "plt.title(\"Nintendo\")\n",
    "plt.ylabel(\"Volatilidad\");"
   ]
  },
  {
   "cell_type": "markdown",
   "metadata": {},
   "source": [
    "## CandleStick Plot (DEPRECATED)"
   ]
  },
  {
   "cell_type": "code",
   "execution_count": null,
   "metadata": {},
   "outputs": [],
   "source": [
    "from matplotlib.finance import candlestick_ohlc\n",
    "import matplotlib.dates as mdates\n",
    "\n",
    "dat = daterange.reset_index()[[\"Date\", \"Open\", \"High\", \"Low\", \"Close\"]]\n",
    "dat[\"Date\"] = dat[\"Date\"].map(mdates.date2num)\n",
    "\n",
    "\n",
    "f1, ax = plt.subplots(figsize = (15,10))\n",
    "_ = candlestick_ohlc(ax, dat.values, width=2, colorup='g', alpha =1)\n",
    "\n",
    "ax.xaxis_date()\n",
    "ax.xaxis.set_major_formatter(mdates.DateFormatter(\"%Y-%m-%d\"))\n",
    "plt.xticks(rotation=45)\n",
    "#ax.set_xlabel(idx_name)\n",
    "ax.set_ylabel(\"OHLC\")\n",
    "ax.set_title(\"Nintendo\");"
   ]
  },
  {
   "cell_type": "markdown",
   "metadata": {},
   "source": [
    "# Haciendo las visualizaciones más interactivas"
   ]
  },
  {
   "cell_type": "markdown",
   "metadata": {},
   "source": [
    "Crearemos diferentes _Checkbox_, uno para cada tipo de valor (_Close_, _Open_, _High_):"
   ]
  },
  {
   "cell_type": "markdown",
   "metadata": {},
   "source": [
    "## Checkboxs"
   ]
  },
  {
   "cell_type": "code",
   "execution_count": null,
   "metadata": {},
   "outputs": [],
   "source": [
    "ratios = [\n",
    "    widgets.Checkbox(value=True, description=\"Close\"),\n",
    "    widgets.Checkbox(value=True, description=\"Open\"),\n",
    "    widgets.Checkbox(value=True, description=\"High\")\n",
    "]"
   ]
  },
  {
   "cell_type": "code",
   "execution_count": null,
   "metadata": {},
   "outputs": [],
   "source": [
    "@interact(close=ratios[0], open=ratios[1], high=ratios[2])\n",
    "def plot_line(close, open, high):\n",
    "    \n",
    "    # obtener lista de tipo de valores\n",
    "    options = []\n",
    "    if close: options.append(\"Close\")\n",
    "    if open: options.append(\"Open\")\n",
    "    if high: options.append(\"High\")\n",
    "        \n",
    "    # crear un trace para cada tipo de valor\n",
    "    traces = list()\n",
    "    for option in options:\n",
    "        trace = go.Scatter(x = ntdo.index, y = ntdo[option].values, name=option)\n",
    "        traces.append(trace)\n",
    "        \n",
    "    # mostrar una figura\n",
    "    fig = go.FigureWidget(data=traces)\n",
    "    iplot(fig)"
   ]
  },
  {
   "cell_type": "markdown",
   "metadata": {},
   "source": [
    "### Subplots y rangos"
   ]
  },
  {
   "cell_type": "code",
   "execution_count": null,
   "metadata": {},
   "outputs": [],
   "source": [
    "from plotly import tools"
   ]
  },
  {
   "cell_type": "code",
   "execution_count": null,
   "metadata": {},
   "outputs": [],
   "source": [
    "def plot_period(start, end):\n",
    "    trace1 = go.Scatter(\n",
    "        x = ntdo.index,\n",
    "        y = ntdo[\"Close\"].values,\n",
    "        xaxis = \"x2\",\n",
    "        yaxis = \"y2\"\n",
    "    )\n",
    "    \n",
    "    trace2 = go.Scatter(\n",
    "        x = ntdo[start:end].index,\n",
    "        y = ntdo[start:end][\"Close\"].values,\n",
    "        xaxis = \"x1\",\n",
    "        yaxis = \"y1\"\n",
    "    )\n",
    "    \n",
    "    layout = go.Layout(\n",
    "        xaxis=dict(\n",
    "            domain = [0, 1]\n",
    "        ),\n",
    "        xaxis1=dict(\n",
    "            domain = [0, 1],\n",
    "            anchor = \"x1\"\n",
    "        ),\n",
    "        yaxis1=dict(\n",
    "            domain = [0, 0.2],\n",
    "            anchor = \"y1\"\n",
    "        ),\n",
    "        xaxis2=dict(\n",
    "            domain = [0, 1],\n",
    "            anchor = \"x2\"\n",
    "        ),\n",
    "        yaxis2=dict(\n",
    "            domain = [0.3, 1],\n",
    "            anchor = \"y2\"\n",
    "        )\n",
    "    )\n",
    "    \n",
    "    fig = go.FigureWidget(data=[trace1, trace2], layout=layout)\n",
    "    iplot(fig)"
   ]
  },
  {
   "cell_type": "code",
   "execution_count": null,
   "metadata": {},
   "outputs": [],
   "source": [
    "plot_period(\"2016-01-01\", \"2017-01-01\")"
   ]
  },
  {
   "cell_type": "code",
   "execution_count": null,
   "metadata": {},
   "outputs": [],
   "source": [
    "fig = tools.make_subplots(rows=2, cols=1)\n",
    "fig.add_trace(trace1)"
   ]
  },
  {
   "cell_type": "code",
   "execution_count": null,
   "metadata": {},
   "outputs": [],
   "source": [
    "iplot(fig)"
   ]
  },
  {
   "cell_type": "markdown",
   "metadata": {},
   "source": [
    "<div id=\"caso3\"></div>\n",
    "\n",
    "# Caso 3: Imágenes por Resonancia Magnética"
   ]
  },
  {
   "cell_type": "markdown",
   "metadata": {},
   "source": [
    "A continuación revisaremos una MRI (Imagen por Resonancia Magnética) usada por el software de visualización médica [**Slicer**](https://www.slicer.org/)."
   ]
  },
  {
   "cell_type": "markdown",
   "metadata": {},
   "source": [
    "Los datos se encuentran [aquí](https://www.slicer.org/w/images/4/43/MR-head.nrrd)"
   ]
  },
  {
   "cell_type": "markdown",
   "metadata": {},
   "source": [
    "Una vez descargado vemos que el archivo tiene la extensión `.nrrd`:"
   ]
  },
  {
   "cell_type": "code",
   "execution_count": null,
   "metadata": {},
   "outputs": [],
   "source": [
    "!ls *.nrrd"
   ]
  },
  {
   "cell_type": "markdown",
   "metadata": {},
   "source": [
    "Cargamos los datos y su _header_ usando `pynrrd`:"
   ]
  },
  {
   "cell_type": "code",
   "execution_count": null,
   "metadata": {},
   "outputs": [],
   "source": [
    "import nrrd\n",
    "fname = \"MR-head.nrrd\"\n",
    "data, header = nrrd.read(fname)\n",
    "data.shape"
   ]
  },
  {
   "cell_type": "markdown",
   "metadata": {},
   "source": [
    "Tiene 3 dimensiones... **¡Es un cubo de datos! 😧**"
   ]
  },
  {
   "cell_type": "markdown",
   "metadata": {},
   "source": [
    "<img src=\"cube.png\">"
   ]
  },
  {
   "cell_type": "markdown",
   "metadata": {},
   "source": [
    "Bueno... podemos visualizar un _slice_ de los datos usando _matplotlib_:"
   ]
  },
  {
   "cell_type": "code",
   "execution_count": null,
   "metadata": {},
   "outputs": [],
   "source": [
    "plt.figure(figsize=(6,6))\n",
    "plt.xticks([]);plt.yticks([])\n",
    "plt.imshow(data[128,:,:], cmap=\"gray\");"
   ]
  },
  {
   "cell_type": "code",
   "execution_count": null,
   "metadata": {},
   "outputs": [],
   "source": [
    "plt.figure(figsize=(6,6))\n",
    "plt.xticks([]);plt.yticks([])\n",
    "plt.imshow(data[:,128,:], cmap=\"gray\");"
   ]
  },
  {
   "cell_type": "code",
   "execution_count": null,
   "metadata": {},
   "outputs": [],
   "source": [
    "plt.figure(figsize=(6,6))\n",
    "plt.xticks([]);plt.yticks([])\n",
    "plt.imshow(data[:,:,65], cmap=\"gray\");"
   ]
  },
  {
   "cell_type": "markdown",
   "metadata": {},
   "source": [
    "O sumar todos los _slice_ a lo largo de un eje:"
   ]
  },
  {
   "cell_type": "code",
   "execution_count": null,
   "metadata": {},
   "outputs": [],
   "source": [
    "plt.figure(figsize=(6,6))\n",
    "plt.xticks([]);plt.yticks([])\n",
    "plt.imshow(data.sum(axis=2), cmap=\"gray\");"
   ]
  },
  {
   "cell_type": "markdown",
   "metadata": {},
   "source": [
    "Pero... **¿Cómo ver los datos en el espacio?**"
   ]
  },
  {
   "cell_type": "markdown",
   "metadata": {},
   "source": [
    "### ¿Qué tal... widgets?"
   ]
  },
  {
   "cell_type": "markdown",
   "metadata": {},
   "source": [
    "Usaremos un slider de enteros para ir navegando entre diferentes slices de la imágen a lo largo del primer eje:"
   ]
  },
  {
   "cell_type": "code",
   "execution_count": null,
   "metadata": {},
   "outputs": [],
   "source": [
    "slider = widgets.IntSlider(min=0, max=data.shape[0]-1, value=0)\n",
    "slider"
   ]
  },
  {
   "cell_type": "markdown",
   "metadata": {},
   "source": [
    "Luego, con `interact`:"
   ]
  },
  {
   "cell_type": "code",
   "execution_count": null,
   "metadata": {},
   "outputs": [],
   "source": [
    "@interact(i=slider)\n",
    "def visualize_x(i):\n",
    "    plt.figure(figsize=(6,6))\n",
    "    plt.xticks([]);plt.yticks([])\n",
    "    plt.imshow(data[i,:,:], cmap=\"gray\");"
   ]
  },
  {
   "cell_type": "markdown",
   "metadata": {},
   "source": [
    "**Warning**: Una misma instancia del slider va a estar conectado consigo mismo independiente de dónde se encuentre. _e.g._"
   ]
  },
  {
   "cell_type": "code",
   "execution_count": null,
   "metadata": {},
   "outputs": [],
   "source": [
    "slider"
   ]
  },
  {
   "cell_type": "markdown",
   "metadata": {},
   "source": [
    "Por lo que hay que crear un diferente slider para cada `interact`."
   ]
  },
  {
   "cell_type": "markdown",
   "metadata": {},
   "source": [
    "Aunque esto también da ventajas, como el control de atributos del widget por código:"
   ]
  },
  {
   "cell_type": "code",
   "execution_count": null,
   "metadata": {},
   "outputs": [],
   "source": [
    "slider.value = 128"
   ]
  },
  {
   "cell_type": "markdown",
   "metadata": {},
   "source": [
    "### Segmentando la imagen\n",
    "\n",
    "[segmentation with skimage](http://scikit-image.org/docs/dev/auto_examples/segmentation/plot_label.html)"
   ]
  },
  {
   "cell_type": "code",
   "execution_count": null,
   "metadata": {},
   "outputs": [],
   "source": [
    "from skimage.filters import threshold_otsu\n",
    "from skimage.segmentation import clear_border\n",
    "from skimage.measure import label\n",
    "from skimage.morphology import closing, square"
   ]
  },
  {
   "cell_type": "code",
   "execution_count": null,
   "metadata": {},
   "outputs": [],
   "source": [
    "img = data[:,80,:]\n",
    "\n",
    "plt.figure(figsize=(6,6))\n",
    "plt.xticks([]);plt.yticks([])\n",
    "plt.imshow(img, cmap=\"gray\");"
   ]
  },
  {
   "cell_type": "code",
   "execution_count": null,
   "metadata": {},
   "outputs": [],
   "source": [
    "plt.hist(img.ravel(), bins=75);"
   ]
  },
  {
   "cell_type": "code",
   "execution_count": null,
   "metadata": {},
   "outputs": [],
   "source": [
    "thresh = threshold_otsu(img)\n",
    "\n",
    "binary_img = np.zeros(img.shape)\n",
    "binary_img[img > thresh] = 255\n",
    "\n",
    "plt.figure(figsize=(6,6))\n",
    "plt.xticks([]);plt.yticks([])\n",
    "plt.imshow(binary_img, cmap=\"gray\");"
   ]
  },
  {
   "cell_type": "code",
   "execution_count": null,
   "metadata": {},
   "outputs": [],
   "source": [
    "labels = label(binary_img)\n",
    "\n",
    "brain_binary = np.zeros(binary_img.shape)\n",
    "brain_binary[labels == 4] = 255\n",
    "\n",
    "brain_binary = clear_border(closing(brain_binary, square(10)))\n",
    "\n",
    "plt.figure(figsize=(6,6))\n",
    "plt.xticks([]);plt.yticks([])\n",
    "plt.imshow(brain_binary, cmap=\"gray\");"
   ]
  },
  {
   "cell_type": "code",
   "execution_count": null,
   "metadata": {},
   "outputs": [],
   "source": [
    "clear_img = img.copy()\n",
    "clear_img[brain_binary == 0] = 0\n",
    "\n",
    "plt.figure(figsize=(6,6))\n",
    "plt.xticks([]);plt.yticks([])\n",
    "plt.imshow(clear_img, cmap=\"gray\");"
   ]
  },
  {
   "cell_type": "markdown",
   "metadata": {},
   "source": [
    "## Isosuperficies\n",
    "**Curva de Contorno**: Es una curva que pasa por todos los puntos en el espacio que tienen un mismo valor asignado"
   ]
  },
  {
   "cell_type": "code",
   "execution_count": null,
   "metadata": {},
   "outputs": [],
   "source": [
    "s = 180\n",
    "f = lambda x, y: np.cos((x-s/2)*(y-s/2)/314)\n",
    "arr = np.fromfunction(f, (s, s))\n",
    "arr.shape"
   ]
  },
  {
   "cell_type": "code",
   "execution_count": null,
   "metadata": {},
   "outputs": [],
   "source": [
    "plt.imshow(arr)"
   ]
  },
  {
   "cell_type": "code",
   "execution_count": null,
   "metadata": {},
   "outputs": [],
   "source": [
    "lo = go.Layout(width=512, height=512)\n",
    "cont = go.Contour(z=arr, contours=dict(start=0, end=1, size=0.4, coloring='lines'))\n",
    "fig = go.Figure([cont], layout=lo)\n",
    "iplot(fig)"
   ]
  },
  {
   "cell_type": "markdown",
   "metadata": {},
   "source": [
    "**Isosuperficie (Superficie de Contorno)**: Es una superficie que pasa por todos los puntos en el espacio por el cual su valor tiene el mismo valor."
   ]
  },
  {
   "cell_type": "code",
   "execution_count": null,
   "metadata": {},
   "outputs": [],
   "source": [
    "from skimage import measure, transform"
   ]
  },
  {
   "cell_type": "code",
   "execution_count": null,
   "metadata": {},
   "outputs": [],
   "source": [
    "cdata = transform.rescale(data, 0.2, mode=\"reflect\")\n",
    "cdata.shape"
   ]
  },
  {
   "cell_type": "code",
   "execution_count": null,
   "metadata": {},
   "outputs": [],
   "source": [
    "plt.figure(figsize=(6,6))\n",
    "\n",
    "plt.xticks([]);plt.yticks([])\n",
    "plt.imshow(cdata[:,25,:], cmap=\"gray\");"
   ]
  },
  {
   "cell_type": "markdown",
   "metadata": {},
   "source": [
    "**Marching Cubes:** Algoritmo para obtener isosuperficies."
   ]
  },
  {
   "cell_type": "markdown",
   "metadata": {},
   "source": [
    "Escalemos la imagen para que sea más fácil de procesar (si usamos una imagen muy grande la CPU no aguantará):"
   ]
  },
  {
   "cell_type": "code",
   "execution_count": null,
   "metadata": {},
   "outputs": [],
   "source": [
    "verts, simplices = measure.marching_cubes_classic(cdata, cdata.mean())"
   ]
  },
  {
   "cell_type": "markdown",
   "metadata": {},
   "source": [
    "Luego usaremos un **figure factory** de _plotly_, más especificamente una herramienta para crear una visualización 3D de la superficie a partir de vértices y símplices:"
   ]
  },
  {
   "cell_type": "code",
   "execution_count": null,
   "metadata": {},
   "outputs": [],
   "source": [
    "from plotly import figure_factory as ff\n",
    "x, y, z = zip(*verts)\n",
    "\n",
    "fig = ff.create_trisurf(x=x, y=z, z=y, colormap=\"Electric\", simplices=simplices,\n",
    "                        show_colorbar=False, showbackground=False, plot_edges=False,\n",
    "                        gridcolor=\"rgba(0,0,0,0)\")"
   ]
  },
  {
   "cell_type": "markdown",
   "metadata": {},
   "source": [
    "Luego, si graficamos:"
   ]
  },
  {
   "cell_type": "code",
   "execution_count": null,
   "metadata": {
    "scrolled": false
   },
   "outputs": [],
   "source": [
    "iplot(fig)"
   ]
  },
  {
   "cell_type": "markdown",
   "metadata": {},
   "source": [
    "<div id=\"sources\"></div>\n",
    "    \n",
    "# Bibliografía \n",
    "\n",
    "* Documentación:\n",
    "    * Jupyter\n",
    "    * Pandas\n",
    "    * Matplotlib\n",
    "    * Numpy\n",
    "    * scikit-image\n",
    "    * plotty\n",
    " \n",
    " \n",
    "* DataSets:\n",
    "    * Departamento de Extranjería y Migración\n",
    "    * Yahoo Finances\n",
    "    * Slicer3D\n",
    "    \n",
    "    \n",
    "* Articulos y recursos de internet:\n",
    "    * Pandas en 10 minutos\n",
    "    * Image segmentation with skimage\n",
    "    \n",
    "    \n",
    "* Libros:\n",
    "    * Data analysis with python\n",
    "    "
   ]
  },
  {
   "cell_type": "code",
   "execution_count": null,
   "metadata": {},
   "outputs": [],
   "source": []
  }
 ],
 "metadata": {
  "kernelspec": {
   "display_name": "Python 3",
   "language": "python",
   "name": "python3"
  },
  "language_info": {
   "codemirror_mode": {
    "name": "ipython",
    "version": 3
   },
   "file_extension": ".py",
   "mimetype": "text/x-python",
   "name": "python",
   "nbconvert_exporter": "python",
   "pygments_lexer": "ipython3",
   "version": "3.7.0"
  }
 },
 "nbformat": 4,
 "nbformat_minor": 2
}
